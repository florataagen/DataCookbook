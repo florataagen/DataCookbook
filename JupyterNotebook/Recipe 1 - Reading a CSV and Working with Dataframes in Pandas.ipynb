{
 "cells": [
  {
   "cell_type": "markdown",
   "id": "15c65bd1",
   "metadata": {},
   "source": [
    "### Recipe 1: Reading a CSV and Working with DataFrames in Pandas"
   ]
  },
  {
   "cell_type": "markdown",
   "id": "91da829b",
   "metadata": {},
   "source": [
    "##### The first step when reading a csv file and working with dataframes in Pandas is to import the following necessary packages:"
   ]
  },
  {
   "cell_type": "code",
   "execution_count": 3,
   "id": "4ac136d7",
   "metadata": {},
   "outputs": [],
   "source": [
    "import pandas as pd\n",
    "import numpy as np"
   ]
  },
  {
   "cell_type": "markdown",
   "id": "e40315b2",
   "metadata": {},
   "source": [
    "##### The following command takes a csv file and reads it into a dataframe, i.e. a 2D table in Pandas used for storing and manipulating data:\n",
    "\n",
    "df = pd.read_csv(\"file_name\")"
   ]
  },
  {
   "cell_type": "markdown",
   "id": "f45f2cb4",
   "metadata": {},
   "source": [
    "##### Let's read in a csv about the annual number of new computer science PhDs in the United States by specialty."
   ]
  },
  {
   "cell_type": "code",
   "execution_count": 17,
   "id": "7c8e74b1",
   "metadata": {},
   "outputs": [],
   "source": [
    "df = pd.read_csv(\"number-new-cs-phds-us-by-specialty.csv\")"
   ]
  },
  {
   "cell_type": "markdown",
   "id": "64077999",
   "metadata": {},
   "source": [
    "##### The head( ) method displays the first 5 rows of our dataframe.\n",
    "\n",
    "Note: A parameter can be supplied to head to set the number of rows displayed. For example, df.head(15) displays the first 15 rows of a dataframe."
   ]
  },
  {
   "cell_type": "code",
   "execution_count": 18,
   "id": "57928a86",
   "metadata": {},
   "outputs": [
    {
     "data": {
      "text/html": [
       "<div>\n",
       "<style scoped>\n",
       "    .dataframe tbody tr th:only-of-type {\n",
       "        vertical-align: middle;\n",
       "    }\n",
       "\n",
       "    .dataframe tbody tr th {\n",
       "        vertical-align: top;\n",
       "    }\n",
       "\n",
       "    .dataframe thead th {\n",
       "        text-align: right;\n",
       "    }\n",
       "</style>\n",
       "<table border=\"1\" class=\"dataframe\">\n",
       "  <thead>\n",
       "    <tr style=\"text-align: right;\">\n",
       "      <th></th>\n",
       "      <th>Entity</th>\n",
       "      <th>Code</th>\n",
       "      <th>Year</th>\n",
       "      <th>number_new_cs_phds_by_specialty</th>\n",
       "    </tr>\n",
       "  </thead>\n",
       "  <tbody>\n",
       "    <tr>\n",
       "      <th>0</th>\n",
       "      <td>Artificial intelligence/machine learning</td>\n",
       "      <td>NaN</td>\n",
       "      <td>2010</td>\n",
       "      <td>161</td>\n",
       "    </tr>\n",
       "    <tr>\n",
       "      <th>1</th>\n",
       "      <td>Artificial intelligence/machine learning</td>\n",
       "      <td>NaN</td>\n",
       "      <td>2011</td>\n",
       "      <td>159</td>\n",
       "    </tr>\n",
       "    <tr>\n",
       "      <th>2</th>\n",
       "      <td>Artificial intelligence/machine learning</td>\n",
       "      <td>NaN</td>\n",
       "      <td>2012</td>\n",
       "      <td>171</td>\n",
       "    </tr>\n",
       "    <tr>\n",
       "      <th>3</th>\n",
       "      <td>Artificial intelligence/machine learning</td>\n",
       "      <td>NaN</td>\n",
       "      <td>2013</td>\n",
       "      <td>138</td>\n",
       "    </tr>\n",
       "    <tr>\n",
       "      <th>4</th>\n",
       "      <td>Artificial intelligence/machine learning</td>\n",
       "      <td>NaN</td>\n",
       "      <td>2014</td>\n",
       "      <td>144</td>\n",
       "    </tr>\n",
       "  </tbody>\n",
       "</table>\n",
       "</div>"
      ],
      "text/plain": [
       "                                     Entity  Code  Year  \\\n",
       "0  Artificial intelligence/machine learning   NaN  2010   \n",
       "1  Artificial intelligence/machine learning   NaN  2011   \n",
       "2  Artificial intelligence/machine learning   NaN  2012   \n",
       "3  Artificial intelligence/machine learning   NaN  2013   \n",
       "4  Artificial intelligence/machine learning   NaN  2014   \n",
       "\n",
       "   number_new_cs_phds_by_specialty  \n",
       "0                              161  \n",
       "1                              159  \n",
       "2                              171  \n",
       "3                              138  \n",
       "4                              144  "
      ]
     },
     "execution_count": 18,
     "metadata": {},
     "output_type": "execute_result"
    }
   ],
   "source": [
    "df.head()"
   ]
  },
  {
   "cell_type": "markdown",
   "id": "8446aad1",
   "metadata": {},
   "source": [
    "##### The info( ) method returns information about the dataframe such as the number of rows and columns, and the data type of each column. "
   ]
  },
  {
   "cell_type": "code",
   "execution_count": 19,
   "id": "58566731",
   "metadata": {},
   "outputs": [
    {
     "name": "stdout",
     "output_type": "stream",
     "text": [
      "<class 'pandas.core.frame.DataFrame'>\n",
      "RangeIndex: 231 entries, 0 to 230\n",
      "Data columns (total 4 columns):\n",
      " #   Column                           Non-Null Count  Dtype  \n",
      "---  ------                           --------------  -----  \n",
      " 0   Entity                           231 non-null    object \n",
      " 1   Code                             0 non-null      float64\n",
      " 2   Year                             231 non-null    int64  \n",
      " 3   number_new_cs_phds_by_specialty  231 non-null    int64  \n",
      "dtypes: float64(1), int64(2), object(1)\n",
      "memory usage: 7.3+ KB\n"
     ]
    }
   ],
   "source": [
    "df.info()"
   ]
  },
  {
   "cell_type": "markdown",
   "id": "ab81cc77",
   "metadata": {},
   "source": [
    "##### We can select individual columns of the dataframe using the column name and square brackets.\n",
    "\n",
    "For example, for our artificial intelligence dataframe we could select the 'Year' column with the following command: "
   ]
  },
  {
   "cell_type": "code",
   "execution_count": 13,
   "id": "158c31be",
   "metadata": {},
   "outputs": [
    {
     "data": {
      "text/plain": [
       "0      2010\n",
       "1      2011\n",
       "2      2012\n",
       "3      2013\n",
       "4      2014\n",
       "       ... \n",
       "226    2016\n",
       "227    2017\n",
       "228    2018\n",
       "229    2019\n",
       "230    2020\n",
       "Name: Year, Length: 231, dtype: int64"
      ]
     },
     "execution_count": 13,
     "metadata": {},
     "output_type": "execute_result"
    }
   ],
   "source": [
    "df[\"Year\"]"
   ]
  },
  {
   "cell_type": "markdown",
   "id": "f664549a",
   "metadata": {},
   "source": [
    "##### We can select individual rows of the dataframe using either the .loc or .iloc( ) command.\n",
    "\n",
    "The loc[ ] method takes the label of a row as an argument, while the iloc( ) method takes an integer index of a row as an argument. \n",
    "\n",
    "The command below accesses the third row in the dataframe:"
   ]
  },
  {
   "cell_type": "code",
   "execution_count": 27,
   "id": "eb5ec6da",
   "metadata": {},
   "outputs": [
    {
     "data": {
      "text/plain": [
       "Entity                             Artificial intelligence/machine learning\n",
       "Code                                                                    NaN\n",
       "Year                                                                   2013\n",
       "number_new_cs_phds_by_specialty                                         138\n",
       "Name: 3, dtype: object"
      ]
     },
     "execution_count": 27,
     "metadata": {},
     "output_type": "execute_result"
    }
   ],
   "source": [
    "df.iloc[3]"
   ]
  },
  {
   "cell_type": "markdown",
   "id": "417033f2",
   "metadata": {},
   "source": [
    "A range of indices can be supplied to the iloc command to access a subset of rows."
   ]
  },
  {
   "cell_type": "code",
   "execution_count": 29,
   "id": "2d5ed0fe",
   "metadata": {},
   "outputs": [
    {
     "data": {
      "text/html": [
       "<div>\n",
       "<style scoped>\n",
       "    .dataframe tbody tr th:only-of-type {\n",
       "        vertical-align: middle;\n",
       "    }\n",
       "\n",
       "    .dataframe tbody tr th {\n",
       "        vertical-align: top;\n",
       "    }\n",
       "\n",
       "    .dataframe thead th {\n",
       "        text-align: right;\n",
       "    }\n",
       "</style>\n",
       "<table border=\"1\" class=\"dataframe\">\n",
       "  <thead>\n",
       "    <tr style=\"text-align: right;\">\n",
       "      <th></th>\n",
       "      <th>Entity</th>\n",
       "      <th>Code</th>\n",
       "      <th>Year</th>\n",
       "      <th>number_new_cs_phds_by_specialty</th>\n",
       "    </tr>\n",
       "  </thead>\n",
       "  <tbody>\n",
       "    <tr>\n",
       "      <th>1</th>\n",
       "      <td>Artificial intelligence/machine learning</td>\n",
       "      <td>NaN</td>\n",
       "      <td>2011</td>\n",
       "      <td>159</td>\n",
       "    </tr>\n",
       "    <tr>\n",
       "      <th>2</th>\n",
       "      <td>Artificial intelligence/machine learning</td>\n",
       "      <td>NaN</td>\n",
       "      <td>2012</td>\n",
       "      <td>171</td>\n",
       "    </tr>\n",
       "    <tr>\n",
       "      <th>3</th>\n",
       "      <td>Artificial intelligence/machine learning</td>\n",
       "      <td>NaN</td>\n",
       "      <td>2013</td>\n",
       "      <td>138</td>\n",
       "    </tr>\n",
       "    <tr>\n",
       "      <th>4</th>\n",
       "      <td>Artificial intelligence/machine learning</td>\n",
       "      <td>NaN</td>\n",
       "      <td>2014</td>\n",
       "      <td>144</td>\n",
       "    </tr>\n",
       "  </tbody>\n",
       "</table>\n",
       "</div>"
      ],
      "text/plain": [
       "                                     Entity  Code  Year  \\\n",
       "1  Artificial intelligence/machine learning   NaN  2011   \n",
       "2  Artificial intelligence/machine learning   NaN  2012   \n",
       "3  Artificial intelligence/machine learning   NaN  2013   \n",
       "4  Artificial intelligence/machine learning   NaN  2014   \n",
       "\n",
       "   number_new_cs_phds_by_specialty  \n",
       "1                              159  \n",
       "2                              171  \n",
       "3                              138  \n",
       "4                              144  "
      ]
     },
     "execution_count": 29,
     "metadata": {},
     "output_type": "execute_result"
    }
   ],
   "source": [
    "df.iloc[1:5]"
   ]
  },
  {
   "cell_type": "markdown",
   "id": "b0441f6b",
   "metadata": {},
   "source": [
    "##### We can use boolean expressions to access subsets of our dataframe.\n",
    "\n",
    "For example, let's say we want to only consider PhD's in 'Graphics/visualization\":"
   ]
  },
  {
   "cell_type": "code",
   "execution_count": 30,
   "id": "9e4d8e66",
   "metadata": {},
   "outputs": [
    {
     "data": {
      "text/html": [
       "<div>\n",
       "<style scoped>\n",
       "    .dataframe tbody tr th:only-of-type {\n",
       "        vertical-align: middle;\n",
       "    }\n",
       "\n",
       "    .dataframe tbody tr th {\n",
       "        vertical-align: top;\n",
       "    }\n",
       "\n",
       "    .dataframe thead th {\n",
       "        text-align: right;\n",
       "    }\n",
       "</style>\n",
       "<table border=\"1\" class=\"dataframe\">\n",
       "  <thead>\n",
       "    <tr style=\"text-align: right;\">\n",
       "      <th></th>\n",
       "      <th>Entity</th>\n",
       "      <th>Code</th>\n",
       "      <th>Year</th>\n",
       "      <th>number_new_cs_phds_by_specialty</th>\n",
       "    </tr>\n",
       "  </thead>\n",
       "  <tbody>\n",
       "    <tr>\n",
       "      <th>33</th>\n",
       "      <td>Graphics/visualization</td>\n",
       "      <td>NaN</td>\n",
       "      <td>2010</td>\n",
       "      <td>73</td>\n",
       "    </tr>\n",
       "    <tr>\n",
       "      <th>34</th>\n",
       "      <td>Graphics/visualization</td>\n",
       "      <td>NaN</td>\n",
       "      <td>2011</td>\n",
       "      <td>93</td>\n",
       "    </tr>\n",
       "    <tr>\n",
       "      <th>35</th>\n",
       "      <td>Graphics/visualization</td>\n",
       "      <td>NaN</td>\n",
       "      <td>2012</td>\n",
       "      <td>77</td>\n",
       "    </tr>\n",
       "    <tr>\n",
       "      <th>36</th>\n",
       "      <td>Graphics/visualization</td>\n",
       "      <td>NaN</td>\n",
       "      <td>2013</td>\n",
       "      <td>80</td>\n",
       "    </tr>\n",
       "    <tr>\n",
       "      <th>37</th>\n",
       "      <td>Graphics/visualization</td>\n",
       "      <td>NaN</td>\n",
       "      <td>2014</td>\n",
       "      <td>87</td>\n",
       "    </tr>\n",
       "    <tr>\n",
       "      <th>38</th>\n",
       "      <td>Graphics/visualization</td>\n",
       "      <td>NaN</td>\n",
       "      <td>2015</td>\n",
       "      <td>82</td>\n",
       "    </tr>\n",
       "    <tr>\n",
       "      <th>39</th>\n",
       "      <td>Graphics/visualization</td>\n",
       "      <td>NaN</td>\n",
       "      <td>2016</td>\n",
       "      <td>83</td>\n",
       "    </tr>\n",
       "    <tr>\n",
       "      <th>40</th>\n",
       "      <td>Graphics/visualization</td>\n",
       "      <td>NaN</td>\n",
       "      <td>2017</td>\n",
       "      <td>78</td>\n",
       "    </tr>\n",
       "    <tr>\n",
       "      <th>41</th>\n",
       "      <td>Graphics/visualization</td>\n",
       "      <td>NaN</td>\n",
       "      <td>2018</td>\n",
       "      <td>84</td>\n",
       "    </tr>\n",
       "    <tr>\n",
       "      <th>42</th>\n",
       "      <td>Graphics/visualization</td>\n",
       "      <td>NaN</td>\n",
       "      <td>2019</td>\n",
       "      <td>68</td>\n",
       "    </tr>\n",
       "    <tr>\n",
       "      <th>43</th>\n",
       "      <td>Graphics/visualization</td>\n",
       "      <td>NaN</td>\n",
       "      <td>2020</td>\n",
       "      <td>64</td>\n",
       "    </tr>\n",
       "  </tbody>\n",
       "</table>\n",
       "</div>"
      ],
      "text/plain": [
       "                    Entity  Code  Year  number_new_cs_phds_by_specialty\n",
       "33  Graphics/visualization   NaN  2010                               73\n",
       "34  Graphics/visualization   NaN  2011                               93\n",
       "35  Graphics/visualization   NaN  2012                               77\n",
       "36  Graphics/visualization   NaN  2013                               80\n",
       "37  Graphics/visualization   NaN  2014                               87\n",
       "38  Graphics/visualization   NaN  2015                               82\n",
       "39  Graphics/visualization   NaN  2016                               83\n",
       "40  Graphics/visualization   NaN  2017                               78\n",
       "41  Graphics/visualization   NaN  2018                               84\n",
       "42  Graphics/visualization   NaN  2019                               68\n",
       "43  Graphics/visualization   NaN  2020                               64"
      ]
     },
     "execution_count": 30,
     "metadata": {},
     "output_type": "execute_result"
    }
   ],
   "source": [
    "df[df[\"Entity\"] == \"Graphics/visualization\"]"
   ]
  },
  {
   "cell_type": "markdown",
   "id": "8796b324",
   "metadata": {},
   "source": [
    "##### We can use the value_counts( ) method to count the unique number of values for a given column.\n",
    "\n",
    "For example, let's calculate how many years are in our artificial dataset, and how many data values there are associated with each year."
   ]
  },
  {
   "cell_type": "code",
   "execution_count": 35,
   "id": "ca698494",
   "metadata": {},
   "outputs": [
    {
     "data": {
      "text/plain": [
       "Year\n",
       "2010    21\n",
       "2011    21\n",
       "2012    21\n",
       "2013    21\n",
       "2014    21\n",
       "2015    21\n",
       "2016    21\n",
       "2017    21\n",
       "2018    21\n",
       "2019    21\n",
       "2020    21\n",
       "dtype: int64"
      ]
     },
     "execution_count": 35,
     "metadata": {},
     "output_type": "execute_result"
    }
   ],
   "source": [
    "df.value_counts(\"Year\")"
   ]
  },
  {
   "cell_type": "markdown",
   "id": "f61b7ef4",
   "metadata": {},
   "source": [
    "##### The sort_values( ) command sorts the values in a dataframe based on supplied columns. \n",
    "\n",
    "Note: The default sorting order of sort_values( ) is ascending. To sort values in descneding order, supply the following argument to the method: ascending = False"
   ]
  },
  {
   "cell_type": "code",
   "execution_count": 42,
   "id": "43edd165",
   "metadata": {},
   "outputs": [
    {
     "data": {
      "text/html": [
       "<div>\n",
       "<style scoped>\n",
       "    .dataframe tbody tr th:only-of-type {\n",
       "        vertical-align: middle;\n",
       "    }\n",
       "\n",
       "    .dataframe tbody tr th {\n",
       "        vertical-align: top;\n",
       "    }\n",
       "\n",
       "    .dataframe thead th {\n",
       "        text-align: right;\n",
       "    }\n",
       "</style>\n",
       "<table border=\"1\" class=\"dataframe\">\n",
       "  <thead>\n",
       "    <tr style=\"text-align: right;\">\n",
       "      <th></th>\n",
       "      <th>Entity</th>\n",
       "      <th>Code</th>\n",
       "      <th>Year</th>\n",
       "      <th>number_new_cs_phds_by_specialty</th>\n",
       "    </tr>\n",
       "  </thead>\n",
       "  <tbody>\n",
       "    <tr>\n",
       "      <th>13</th>\n",
       "      <td>Computing education</td>\n",
       "      <td>NaN</td>\n",
       "      <td>2012</td>\n",
       "      <td>0</td>\n",
       "    </tr>\n",
       "    <tr>\n",
       "      <th>16</th>\n",
       "      <td>Computing education</td>\n",
       "      <td>NaN</td>\n",
       "      <td>2015</td>\n",
       "      <td>0</td>\n",
       "    </tr>\n",
       "    <tr>\n",
       "      <th>15</th>\n",
       "      <td>Computing education</td>\n",
       "      <td>NaN</td>\n",
       "      <td>2014</td>\n",
       "      <td>0</td>\n",
       "    </tr>\n",
       "    <tr>\n",
       "      <th>14</th>\n",
       "      <td>Computing education</td>\n",
       "      <td>NaN</td>\n",
       "      <td>2013</td>\n",
       "      <td>0</td>\n",
       "    </tr>\n",
       "    <tr>\n",
       "      <th>11</th>\n",
       "      <td>Computing education</td>\n",
       "      <td>NaN</td>\n",
       "      <td>2010</td>\n",
       "      <td>0</td>\n",
       "    </tr>\n",
       "    <tr>\n",
       "      <th>...</th>\n",
       "      <td>...</td>\n",
       "      <td>...</td>\n",
       "      <td>...</td>\n",
       "      <td>...</td>\n",
       "    </tr>\n",
       "    <tr>\n",
       "      <th>225</th>\n",
       "      <td>Total</td>\n",
       "      <td>NaN</td>\n",
       "      <td>2015</td>\n",
       "      <td>1256</td>\n",
       "    </tr>\n",
       "    <tr>\n",
       "      <th>230</th>\n",
       "      <td>Total</td>\n",
       "      <td>NaN</td>\n",
       "      <td>2020</td>\n",
       "      <td>1315</td>\n",
       "    </tr>\n",
       "    <tr>\n",
       "      <th>224</th>\n",
       "      <td>Total</td>\n",
       "      <td>NaN</td>\n",
       "      <td>2014</td>\n",
       "      <td>1321</td>\n",
       "    </tr>\n",
       "    <tr>\n",
       "      <th>226</th>\n",
       "      <td>Total</td>\n",
       "      <td>NaN</td>\n",
       "      <td>2016</td>\n",
       "      <td>1324</td>\n",
       "    </tr>\n",
       "    <tr>\n",
       "      <th>222</th>\n",
       "      <td>Total</td>\n",
       "      <td>NaN</td>\n",
       "      <td>2012</td>\n",
       "      <td>1343</td>\n",
       "    </tr>\n",
       "  </tbody>\n",
       "</table>\n",
       "<p>231 rows × 4 columns</p>\n",
       "</div>"
      ],
      "text/plain": [
       "                  Entity  Code  Year  number_new_cs_phds_by_specialty\n",
       "13   Computing education   NaN  2012                                0\n",
       "16   Computing education   NaN  2015                                0\n",
       "15   Computing education   NaN  2014                                0\n",
       "14   Computing education   NaN  2013                                0\n",
       "11   Computing education   NaN  2010                                0\n",
       "..                   ...   ...   ...                              ...\n",
       "225                Total   NaN  2015                             1256\n",
       "230                Total   NaN  2020                             1315\n",
       "224                Total   NaN  2014                             1321\n",
       "226                Total   NaN  2016                             1324\n",
       "222                Total   NaN  2012                             1343\n",
       "\n",
       "[231 rows x 4 columns]"
      ]
     },
     "execution_count": 42,
     "metadata": {},
     "output_type": "execute_result"
    }
   ],
   "source": [
    "df.sort_values(\"number_new_cs_phds_by_specialty\")"
   ]
  },
  {
   "cell_type": "markdown",
   "id": "4f149d59",
   "metadata": {},
   "source": [
    "This tells us that the **minimum** number of PhD's came from the \"Computing education\" specialty."
   ]
  },
  {
   "cell_type": "code",
   "execution_count": 47,
   "id": "91965e78",
   "metadata": {},
   "outputs": [
    {
     "data": {
      "text/html": [
       "<div>\n",
       "<style scoped>\n",
       "    .dataframe tbody tr th:only-of-type {\n",
       "        vertical-align: middle;\n",
       "    }\n",
       "\n",
       "    .dataframe tbody tr th {\n",
       "        vertical-align: top;\n",
       "    }\n",
       "\n",
       "    .dataframe thead th {\n",
       "        text-align: right;\n",
       "    }\n",
       "</style>\n",
       "<table border=\"1\" class=\"dataframe\">\n",
       "  <thead>\n",
       "    <tr style=\"text-align: right;\">\n",
       "      <th></th>\n",
       "      <th>Entity</th>\n",
       "      <th>Code</th>\n",
       "      <th>Year</th>\n",
       "      <th>number_new_cs_phds_by_specialty</th>\n",
       "    </tr>\n",
       "  </thead>\n",
       "  <tbody>\n",
       "    <tr>\n",
       "      <th>9</th>\n",
       "      <td>Artificial intelligence/machine learning</td>\n",
       "      <td>NaN</td>\n",
       "      <td>2019</td>\n",
       "      <td>286</td>\n",
       "    </tr>\n",
       "    <tr>\n",
       "      <th>10</th>\n",
       "      <td>Artificial intelligence/machine learning</td>\n",
       "      <td>NaN</td>\n",
       "      <td>2020</td>\n",
       "      <td>277</td>\n",
       "    </tr>\n",
       "    <tr>\n",
       "      <th>8</th>\n",
       "      <td>Artificial intelligence/machine learning</td>\n",
       "      <td>NaN</td>\n",
       "      <td>2018</td>\n",
       "      <td>266</td>\n",
       "    </tr>\n",
       "    <tr>\n",
       "      <th>6</th>\n",
       "      <td>Artificial intelligence/machine learning</td>\n",
       "      <td>NaN</td>\n",
       "      <td>2016</td>\n",
       "      <td>233</td>\n",
       "    </tr>\n",
       "    <tr>\n",
       "      <th>7</th>\n",
       "      <td>Artificial intelligence/machine learning</td>\n",
       "      <td>NaN</td>\n",
       "      <td>2017</td>\n",
       "      <td>218</td>\n",
       "    </tr>\n",
       "    <tr>\n",
       "      <th>...</th>\n",
       "      <td>...</td>\n",
       "      <td>...</td>\n",
       "      <td>...</td>\n",
       "      <td>...</td>\n",
       "    </tr>\n",
       "    <tr>\n",
       "      <th>15</th>\n",
       "      <td>Computing education</td>\n",
       "      <td>NaN</td>\n",
       "      <td>2014</td>\n",
       "      <td>0</td>\n",
       "    </tr>\n",
       "    <tr>\n",
       "      <th>16</th>\n",
       "      <td>Computing education</td>\n",
       "      <td>NaN</td>\n",
       "      <td>2015</td>\n",
       "      <td>0</td>\n",
       "    </tr>\n",
       "    <tr>\n",
       "      <th>11</th>\n",
       "      <td>Computing education</td>\n",
       "      <td>NaN</td>\n",
       "      <td>2010</td>\n",
       "      <td>0</td>\n",
       "    </tr>\n",
       "    <tr>\n",
       "      <th>12</th>\n",
       "      <td>Computing education</td>\n",
       "      <td>NaN</td>\n",
       "      <td>2011</td>\n",
       "      <td>0</td>\n",
       "    </tr>\n",
       "    <tr>\n",
       "      <th>13</th>\n",
       "      <td>Computing education</td>\n",
       "      <td>NaN</td>\n",
       "      <td>2012</td>\n",
       "      <td>0</td>\n",
       "    </tr>\n",
       "  </tbody>\n",
       "</table>\n",
       "<p>220 rows × 4 columns</p>\n",
       "</div>"
      ],
      "text/plain": [
       "                                      Entity  Code  Year  \\\n",
       "9   Artificial intelligence/machine learning   NaN  2019   \n",
       "10  Artificial intelligence/machine learning   NaN  2020   \n",
       "8   Artificial intelligence/machine learning   NaN  2018   \n",
       "6   Artificial intelligence/machine learning   NaN  2016   \n",
       "7   Artificial intelligence/machine learning   NaN  2017   \n",
       "..                                       ...   ...   ...   \n",
       "15                       Computing education   NaN  2014   \n",
       "16                       Computing education   NaN  2015   \n",
       "11                       Computing education   NaN  2010   \n",
       "12                       Computing education   NaN  2011   \n",
       "13                       Computing education   NaN  2012   \n",
       "\n",
       "    number_new_cs_phds_by_specialty  \n",
       "9                               286  \n",
       "10                              277  \n",
       "8                               266  \n",
       "6                               233  \n",
       "7                               218  \n",
       "..                              ...  \n",
       "15                                0  \n",
       "16                                0  \n",
       "11                                0  \n",
       "12                                0  \n",
       "13                                0  \n",
       "\n",
       "[220 rows x 4 columns]"
      ]
     },
     "execution_count": 47,
     "metadata": {},
     "output_type": "execute_result"
    }
   ],
   "source": [
    "df[df[\"Entity\"] != \"Total\"].sort_values(\"number_new_cs_phds_by_specialty\", ascending = False)"
   ]
  },
  {
   "cell_type": "markdown",
   "id": "81b20edb",
   "metadata": {},
   "source": [
    "This tells us that the **maximum** number of PhD's came from the \"Artificial intelligence/machine learning\" specialty. Note that the sort_values method was called on a subset of the dataframe to exclude the 'Total' values that are sums of all the specialties."
   ]
  }
 ],
 "metadata": {
  "kernelspec": {
   "display_name": "Python 3 (ipykernel)",
   "language": "python",
   "name": "python3"
  },
  "language_info": {
   "codemirror_mode": {
    "name": "ipython",
    "version": 3
   },
   "file_extension": ".py",
   "mimetype": "text/x-python",
   "name": "python",
   "nbconvert_exporter": "python",
   "pygments_lexer": "ipython3",
   "version": "3.9.13"
  }
 },
 "nbformat": 4,
 "nbformat_minor": 5
}
